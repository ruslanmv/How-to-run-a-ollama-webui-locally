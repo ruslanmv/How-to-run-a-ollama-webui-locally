{
 "cells": [
  {
   "cell_type": "markdown",
   "metadata": {},
   "source": [
    "# Super Simple  Ollama WebUI\n",
    "by ruslanmv.com"
   ]
  },
  {
   "cell_type": "code",
   "execution_count": 6,
   "metadata": {},
   "outputs": [
    {
     "name": "stdout",
     "output_type": "stream",
     "text": [
      "NAME          \tID          \tSIZE  \tMODIFIED     \n",
      "gemma:2b      \tb50d6c999e59\t1.7 GB\t6 hours ago \t\n",
      "mistral:latest\t61e88e884507\t4.1 GB\t13 hours ago\t\n",
      "phi3:latest   \ta2c89ceaed85\t2.3 GB\t13 hours ago\t\n",
      "llama3:latest \ta6990ed6be41\t4.7 GB\t5 days ago  \t\n",
      "I'm just a language model, so I don't have feelings or emotions like humans do. However, I'm functioning properly and ready to help with any questions or tasks you may have. How can I assist you today?\n"
     ]
    }
   ],
   "source": [
    "import ollama\n",
    "from langchain_community.llms import Ollama\n",
    "# Replace with the desired model name\n",
    "model_name = \"llama3\" \n",
    "#Check if you have the model\n",
    "!ollama list\n",
    "# Download the model \n",
    "ollama.pull=model_name\n",
    "#Create the model\n",
    "llm = Ollama(model=model_name)\n",
    "prompt=\"How are you?\"\n",
    "response = llm.invoke(prompt)\n",
    "print(response)"
   ]
  }
 ],
 "metadata": {
  "kernelspec": {
   "display_name": ".venv",
   "language": "python",
   "name": "python3"
  },
  "language_info": {
   "codemirror_mode": {
    "name": "ipython",
    "version": 3
   },
   "file_extension": ".py",
   "mimetype": "text/x-python",
   "name": "python",
   "nbconvert_exporter": "python",
   "pygments_lexer": "ipython3",
   "version": "3.10.11"
  }
 },
 "nbformat": 4,
 "nbformat_minor": 2
}
